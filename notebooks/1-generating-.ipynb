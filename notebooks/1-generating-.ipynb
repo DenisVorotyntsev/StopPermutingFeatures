{
 "cells": [
  {
   "cell_type": "code",
   "execution_count": 1,
   "metadata": {},
   "outputs": [],
   "source": [
    "import pandas as pd \n",
    "import numpy as np\n",
    "from tqdm import tqdm\n",
    "from matplotlib import pyplot as plt \n",
    "import seaborn as sns\n",
    "sns.set()\n",
    "\n",
    "from stop_permuting_features.src.utils import get_lr"
   ]
  },
  {
   "cell_type": "code",
   "execution_count": 2,
   "metadata": {},
   "outputs": [
    {
     "name": "stderr",
     "output_type": "stream",
     "text": [
      "Starting from version 2.2.1, the library file in distribution wheels for macOS is built by the Apple Clang (Xcode_8.3.3) compiler.\n",
      "This means that in case of installing LightGBM from PyPI via the ``pip install lightgbm`` command, you don't need to install the gcc compiler anymore.\n",
      "Instead of that, you need to install the OpenMP library, which is required for running LightGBM on the system with the Apple Clang compiler.\n",
      "You can install the OpenMP library by the following command: ``brew install libomp``.\n"
     ]
    }
   ],
   "source": [
    "from typing import Dict\n",
    "import collections\n",
    "\n",
    "import pandas as pd\n",
    "import numpy as np\n",
    "from tqdm import tqdm\n",
    "from scipy.stats import spearmanr\n",
    "\n",
    "import shap\n",
    "from sklearn.model_selection import ParameterGrid\n",
    "from sklearn.metrics import roc_auc_score\n",
    "from lightgbm import LGBMModel\n"
   ]
  },
  {
   "cell_type": "code",
   "execution_count": 3,
   "metadata": {},
   "outputs": [],
   "source": [
    "from sklearn.metrics import roc_auc_score"
   ]
  },
  {
   "cell_type": "code",
   "execution_count": 4,
   "metadata": {},
   "outputs": [],
   "source": [
    "from stop_permuting_features.src.generate_data import (\n",
    "    generate_weights_gamma,\n",
    "    get_correlated_data_stats,\n",
    "    generate_normal_correlated_data,\n",
    "    generate_normal_target\n",
    ")"
   ]
  },
  {
   "cell_type": "code",
   "execution_count": 5,
   "metadata": {},
   "outputs": [],
   "source": [
    "from sklearn.model_selection import ParameterGrid"
   ]
  },
  {
   "cell_type": "code",
   "execution_count": 6,
   "metadata": {},
   "outputs": [],
   "source": [
    "num_seeds = 10"
   ]
  },
  {
   "cell_type": "code",
   "execution_count": 7,
   "metadata": {},
   "outputs": [],
   "source": [
    "def run_experiment(\n",
    "        experiment_params: Dict[str, any]\n",
    ") -> Dict[str, float]:\n",
    "    experiment_results = collections.OrderedDict()\n",
    "\n",
    "    # generate data\n",
    "    data = generate_normal_correlated_data(\n",
    "        mu=experiment_params[\"mu\"],\n",
    "        var=experiment_params[\"var\"],\n",
    "        n_features=experiment_params[\"n_features\"],\n",
    "        n_samples=experiment_params[\"n_samples\"],\n",
    "        max_correlation=experiment_params[\"max_correlation\"],\n",
    "        noise_magnitude_max=experiment_params[\"noise_magnitude_max\"],\n",
    "        seed=experiment_params[\"seed\"]\n",
    "    )\n",
    "    \n",
    "    data_stats = get_correlated_data_stats(data)\n",
    "    return data_stats"
   ]
  },
  {
   "cell_type": "code",
   "execution_count": 8,
   "metadata": {},
   "outputs": [
    {
     "name": "stderr",
     "output_type": "stream",
     "text": [
      "100%|██████████| 200/200 [01:05<00:00,  3.06it/s]\n"
     ]
    }
   ],
   "source": [
    "    experiments_grid = ParameterGrid(\n",
    "        {\n",
    "            \"task\": [\"classification\"],\n",
    "\n",
    "            # constant params - data generation\n",
    "            \"mu\": [0],\n",
    "            \"var\": [1],\n",
    "            \"n_features\": [50],\n",
    "            \"n_samples\": [10_000],\n",
    "\n",
    "            # constant params - weights\n",
    "            \"gamma\": [1],\n",
    "            \"scale\": [1],\n",
    "\n",
    "            # permutation params\n",
    "            \"metric\": [roc_auc_score],  # \"negative_mean_squared_error\" for regression, \"roc_auc_score\" for classification\n",
    "            \"model_params\": [\n",
    "                {\n",
    "                    \"objective\": \"binary\",  # \"regression\" for regression, \"binary\" for classification\n",
    "                    \"learning_rate\": 0.01,\n",
    "                    \"n_estimators\": 100,\n",
    "                    \"random_state\": 42\n",
    "                }\n",
    "            ],\n",
    "            \"n_repeats_permutations\": [5],\n",
    "\n",
    "            # changeable params\n",
    "            \"max_correlation\": [0.95, 0.9, 0.8, 0.7, 0.6],\n",
    "            \"noise_magnitude_max\": np.arange(1, 5, 1),\n",
    "            \"seed\": list(range(num_seeds)),\n",
    "        }\n",
    "    )\n",
    "    experiments_grid = list(experiments_grid)\n",
    "\n",
    "    # run experiments\n",
    "    results = []\n",
    "    for experiment_params in tqdm(experiments_grid):\n",
    "        experiment_results = run_experiment(experiment_params)\n",
    "        results.append(experiment_results)"
   ]
  },
  {
   "cell_type": "code",
   "execution_count": 9,
   "metadata": {},
   "outputs": [
    {
     "data": {
      "text/plain": [
       "<matplotlib.axes._subplots.AxesSubplot at 0x1a1e2e0a90>"
      ]
     },
     "execution_count": 9,
     "metadata": {},
     "output_type": "execute_result"
    },
    {
     "data": {
      "image/png": "[encoded data removed]",
      "text/plain": [
       "<Figure size 432x288 with 1 Axes>"
      ]
     },
     "metadata": {
      "needs_background": "light"
     },
     "output_type": "display_data"
    }
   ],
   "source": [
    "pd.DataFrame(results)[\"abs_correlation_mean\"].hist()"
   ]
  },
  {
   "cell_type": "code",
   "execution_count": null,
   "metadata": {},
   "outputs": [],
   "source": []
  },
  {
   "cell_type": "code",
   "execution_count": null,
   "metadata": {},
   "outputs": [],
   "source": []
  }
 ],
 "metadata": {
  "kernelspec": {
   "display_name": "Python 3",
   "language": "python",
   "name": "python3"
  },
  "language_info": {
   "codemirror_mode": {
    "name": "ipython",
    "version": 3
   },
   "file_extension": ".py",
   "mimetype": "text/x-python",
   "name": "python",
   "nbconvert_exporter": "python",
   "pygments_lexer": "ipython3",
   "version": "3.6.6"
  }
 },
 "nbformat": 4,
 "nbformat_minor": 2
}
